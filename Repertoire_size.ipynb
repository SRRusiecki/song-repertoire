{
 "cells": [
  {
   "cell_type": "markdown",
   "metadata": {},
   "source": [
    "# Introduction & data set"
   ]
  },
  {
   "cell_type": "markdown",
   "metadata": {},
   "source": [
    "Males of many birds sing elaborated songs consisting of various distinct sounds called syllables. Each individual has finite repertoire of different syllables that can be grupped in the clearly separated song bouts. I studied the song of the bluethroat, *Luscinia svecica* - small, secretive bird closely related to nightingales, well-known for their complicated song. I used separate, uninterrupted recordings of bluethroats of known age, indexed all the song bouts in the recordings, split the songs into syllables and classified them to distinct syllable types. In every recording each syllable type was given a unique number and repertoire of each bird was saved in separate .csv file. Data in files ending with 'y.*csv*' refers to young birds, while file names ending with 'a.*csv*' refers to adults. For every syllable (row):\n",
    "1. column gives the number of the song bout\n",
    "2. column gives a number of syllable type\n",
    " \n",
    "We want to examine whether there are any differences in the song repertoire size between young males breeding for the first time and adult, experienced individuals. "
   ]
  },
  {
   "cell_type": "markdown",
   "metadata": {},
   "source": [
    "# Data loading"
   ]
  },
  {
   "cell_type": "markdown",
   "metadata": {},
   "source": [
    "Let's read data for all young birds at once using fast *pd.read* command and keeping original file names:"
   ]
  },
  {
   "cell_type": "code",
   "execution_count": 1,
   "metadata": {
    "scrolled": true
   },
   "outputs": [
    {
     "data": {
      "text/html": [
       "<div>\n",
       "<style scoped>\n",
       "    .dataframe tbody tr th:only-of-type {\n",
       "        vertical-align: middle;\n",
       "    }\n",
       "\n",
       "    .dataframe tbody tr th {\n",
       "        vertical-align: top;\n",
       "    }\n",
       "\n",
       "    .dataframe thead th {\n",
       "        text-align: right;\n",
       "    }\n",
       "</style>\n",
       "<table border=\"1\" class=\"dataframe\">\n",
       "  <thead>\n",
       "    <tr style=\"text-align: right;\">\n",
       "      <th></th>\n",
       "      <th>song01-74y</th>\n",
       "      <th>syllable01-74y</th>\n",
       "      <th>song01-84y</th>\n",
       "      <th>syllable01-84y</th>\n",
       "      <th>song06-07y</th>\n",
       "      <th>syllable06-07y</th>\n",
       "      <th>song06-22y</th>\n",
       "      <th>syllable06-22y</th>\n",
       "      <th>song08-00y</th>\n",
       "      <th>syllable08-00y</th>\n",
       "      <th>song09-27y</th>\n",
       "      <th>syllable09-27y</th>\n",
       "      <th>song13-10y</th>\n",
       "      <th>syllable13-10y</th>\n",
       "      <th>song15-00y</th>\n",
       "      <th>syllable15-00y</th>\n",
       "      <th>song16-08y</th>\n",
       "      <th>syllable16-08y</th>\n",
       "    </tr>\n",
       "  </thead>\n",
       "  <tbody>\n",
       "    <tr>\n",
       "      <th>0</th>\n",
       "      <td>1.0</td>\n",
       "      <td>1.0</td>\n",
       "      <td>1.0</td>\n",
       "      <td>1.0</td>\n",
       "      <td>1.0</td>\n",
       "      <td>1.0</td>\n",
       "      <td>1.0</td>\n",
       "      <td>1.0</td>\n",
       "      <td>1.0</td>\n",
       "      <td>1.0</td>\n",
       "      <td>1.0</td>\n",
       "      <td>1.0</td>\n",
       "      <td>1</td>\n",
       "      <td>1</td>\n",
       "      <td>1.0</td>\n",
       "      <td>1.0</td>\n",
       "      <td>1.0</td>\n",
       "      <td>1.0</td>\n",
       "    </tr>\n",
       "    <tr>\n",
       "      <th>1</th>\n",
       "      <td>1.0</td>\n",
       "      <td>2.0</td>\n",
       "      <td>1.0</td>\n",
       "      <td>1.0</td>\n",
       "      <td>1.0</td>\n",
       "      <td>1.0</td>\n",
       "      <td>1.0</td>\n",
       "      <td>1.0</td>\n",
       "      <td>1.0</td>\n",
       "      <td>1.0</td>\n",
       "      <td>1.0</td>\n",
       "      <td>1.0</td>\n",
       "      <td>1</td>\n",
       "      <td>1</td>\n",
       "      <td>1.0</td>\n",
       "      <td>1.0</td>\n",
       "      <td>1.0</td>\n",
       "      <td>1.0</td>\n",
       "    </tr>\n",
       "    <tr>\n",
       "      <th>2</th>\n",
       "      <td>1.0</td>\n",
       "      <td>1.0</td>\n",
       "      <td>1.0</td>\n",
       "      <td>1.0</td>\n",
       "      <td>1.0</td>\n",
       "      <td>1.0</td>\n",
       "      <td>1.0</td>\n",
       "      <td>1.0</td>\n",
       "      <td>1.0</td>\n",
       "      <td>1.0</td>\n",
       "      <td>1.0</td>\n",
       "      <td>1.0</td>\n",
       "      <td>1</td>\n",
       "      <td>2</td>\n",
       "      <td>1.0</td>\n",
       "      <td>1.0</td>\n",
       "      <td>1.0</td>\n",
       "      <td>1.0</td>\n",
       "    </tr>\n",
       "    <tr>\n",
       "      <th>3</th>\n",
       "      <td>1.0</td>\n",
       "      <td>2.0</td>\n",
       "      <td>1.0</td>\n",
       "      <td>1.0</td>\n",
       "      <td>1.0</td>\n",
       "      <td>1.0</td>\n",
       "      <td>1.0</td>\n",
       "      <td>1.0</td>\n",
       "      <td>1.0</td>\n",
       "      <td>1.0</td>\n",
       "      <td>1.0</td>\n",
       "      <td>2.0</td>\n",
       "      <td>1</td>\n",
       "      <td>3</td>\n",
       "      <td>1.0</td>\n",
       "      <td>1.0</td>\n",
       "      <td>1.0</td>\n",
       "      <td>1.0</td>\n",
       "    </tr>\n",
       "    <tr>\n",
       "      <th>4</th>\n",
       "      <td>1.0</td>\n",
       "      <td>1.0</td>\n",
       "      <td>1.0</td>\n",
       "      <td>1.0</td>\n",
       "      <td>1.0</td>\n",
       "      <td>2.0</td>\n",
       "      <td>1.0</td>\n",
       "      <td>1.0</td>\n",
       "      <td>1.0</td>\n",
       "      <td>2.0</td>\n",
       "      <td>1.0</td>\n",
       "      <td>3.0</td>\n",
       "      <td>1</td>\n",
       "      <td>1</td>\n",
       "      <td>1.0</td>\n",
       "      <td>1.0</td>\n",
       "      <td>1.0</td>\n",
       "      <td>2.0</td>\n",
       "    </tr>\n",
       "  </tbody>\n",
       "</table>\n",
       "</div>"
      ],
      "text/plain": [
       "   song01-74y  syllable01-74y  song01-84y  syllable01-84y  song06-07y  \\\n",
       "0         1.0             1.0         1.0             1.0         1.0   \n",
       "1         1.0             2.0         1.0             1.0         1.0   \n",
       "2         1.0             1.0         1.0             1.0         1.0   \n",
       "3         1.0             2.0         1.0             1.0         1.0   \n",
       "4         1.0             1.0         1.0             1.0         1.0   \n",
       "\n",
       "   syllable06-07y  song06-22y  syllable06-22y  song08-00y  syllable08-00y  \\\n",
       "0             1.0         1.0             1.0         1.0             1.0   \n",
       "1             1.0         1.0             1.0         1.0             1.0   \n",
       "2             1.0         1.0             1.0         1.0             1.0   \n",
       "3             1.0         1.0             1.0         1.0             1.0   \n",
       "4             2.0         1.0             1.0         1.0             2.0   \n",
       "\n",
       "   song09-27y  syllable09-27y  song13-10y  syllable13-10y  song15-00y  \\\n",
       "0         1.0             1.0           1               1         1.0   \n",
       "1         1.0             1.0           1               1         1.0   \n",
       "2         1.0             1.0           1               2         1.0   \n",
       "3         1.0             2.0           1               3         1.0   \n",
       "4         1.0             3.0           1               1         1.0   \n",
       "\n",
       "   syllable15-00y  song16-08y  syllable16-08y  \n",
       "0             1.0         1.0             1.0  \n",
       "1             1.0         1.0             1.0  \n",
       "2             1.0         1.0             1.0  \n",
       "3             1.0         1.0             1.0  \n",
       "4             1.0         1.0             2.0  "
      ]
     },
     "execution_count": 1,
     "metadata": {},
     "output_type": "execute_result"
    }
   ],
   "source": [
    "import pandas as pd\n",
    "import glob\n",
    "\n",
    "young = pd.concat([pd.read_csv(f, sep=';', names=(f'song{f[5:11]}',f'syllable{f[5:11]}')) for f in glob.glob(\"Data\\*y.csv\")],\n",
    "                  axis=1, ignore_index=0)\n",
    "young.head()"
   ]
  },
  {
   "cell_type": "markdown",
   "metadata": {},
   "source": [
    "Let's get rid of unnecessary first columns of every file:"
   ]
  },
  {
   "cell_type": "code",
   "execution_count": 2,
   "metadata": {},
   "outputs": [],
   "source": [
    "young = young.iloc[:,1::2]"
   ]
  },
  {
   "cell_type": "markdown",
   "metadata": {},
   "source": [
    "Let's load data for adults:"
   ]
  },
  {
   "cell_type": "code",
   "execution_count": 3,
   "metadata": {},
   "outputs": [],
   "source": [
    "adult = pd.concat([pd.read_csv(f, sep=';', names=(f'song{f[:-6]}',f'{f[5:11]}')) for f in glob.glob(\"Data\\*a.csv\")], axis=1,\n",
    "                      ignore_index=0)\n",
    "adult = adult.iloc[:,1::2]"
   ]
  },
  {
   "cell_type": "markdown",
   "metadata": {},
   "source": [
    "To find repertoire size we will loop trough the data to find the number of unique values in different syllable sequences. We could do it using *pd.unique* for sliced columns of *pandas* data frame, however we'd rather create a list of arrays for which we can directly use *np.unique*.\n",
    "\n",
    "In this example the efficiency & performance is not an issue but in real world, with much larger data sets the *NumPy* approach clearly beats the *pandas* one, being at least 100 times faster. "
   ]
  },
  {
   "cell_type": "code",
   "execution_count": 4,
   "metadata": {},
   "outputs": [
    {
     "name": "stdout",
     "output_type": "stream",
     "text": [
      "2134 total syllables of 158 different types\n",
      "2772 total syllables of 177 different types\n",
      "2977 total syllables of 202 different types\n",
      "2969 total syllables of 207 different types\n",
      "1486 total syllables of 113 different types\n",
      "2061 total syllables of 192 different types\n",
      "2550 total syllables of 176 different types\n",
      "3408 total syllables of 213 different types\n"
     ]
    }
   ],
   "source": [
    "import numpy as np\n",
    "\n",
    "# list of arrays for adults\n",
    "adult_birds = []\n",
    "\n",
    "for bird in adult.columns.values:\n",
    "    bird = adult[bird].values\n",
    "    bird = bird[~np.isnan(bird)]\n",
    "    adult_birds.append(bird)\n",
    "    # By the way, we can describe song syllable sequence for each bird in the list, as we loop\n",
    "    print(f'{bird.size} total syllables of {len(np.unique(bird))} different types')"
   ]
  },
  {
   "cell_type": "code",
   "execution_count": 5,
   "metadata": {},
   "outputs": [],
   "source": [
    "young_birds = []\n",
    "for bird in young.columns.values:\n",
    "    bird = young[bird].values\n",
    "    bird = bird[~np.isnan(bird)]\n",
    "    young_birds.append(bird)\n",
    "#     print(f'{bird.size} total syllables of {len(np.unique(bird))} different types')"
   ]
  },
  {
   "cell_type": "markdown",
   "metadata": {},
   "source": [
    "Instead of printing the values, let's simply plot the total repertoire size vs. the length of analysed syllable sequence."
   ]
  },
  {
   "cell_type": "code",
   "execution_count": 6,
   "metadata": {},
   "outputs": [
    {
     "data": {
      "image/png": "[encoded data removed]",
      "text/plain": [
       "<Figure size 432x288 with 1 Axes>"
      ]
     },
     "metadata": {
      "needs_background": "light"
     },
     "output_type": "display_data"
    }
   ],
   "source": [
    "import matplotlib.pyplot as plt\n",
    "\n",
    "x_adult = [len(bird) for bird in adult_birds]\n",
    "y_adult = [len(np.unique(bird)) for bird in adult_birds]\n",
    "\n",
    "x_young = [len(bird) for bird in young_birds]\n",
    "y_young = [len(np.unique(bird)) for bird in young_birds]\n",
    "\n",
    "fig, ax = plt.subplots()\n",
    "\n",
    "ax.scatter(x_adult, y_adult, label='adult')\n",
    "ax.scatter(x_young, y_young, label='young')\n",
    "\n",
    "ax.set_ylabel('Total repertoire size')\n",
    "ax.set_xlabel('Number of syllables in the recordings')\n",
    "ax.legend(loc='center right')\n",
    "\n",
    "plt.show()"
   ]
  },
  {
   "cell_type": "markdown",
   "metadata": {},
   "source": [
    "There seems to be rather obvious positive relationship between the total repertoire size and the length of the recording. "
   ]
  },
  {
   "cell_type": "markdown",
   "metadata": {},
   "source": [
    "# Estimating the repertoire size"
   ]
  },
  {
   "cell_type": "markdown",
   "metadata": {},
   "source": [
    "## Capture-recapture method\n",
    "\n",
    "If we naively measure repertoire size of each bird as the total number of different syllables in the corresponding recording, the result would certainly depend on the length of the recording.\n",
    "\n",
    "To deal with the problem of uneven length of recordings, we can use simple capture-recapture method. We are going to estimate repertoire size for each recording from sample of several sequences of fixed length. First sequence starts from the first element and ends with nth element. The next starts, for example, at 10th element and ends at nth+10 element, etc. For each successive sequence we write the number of different syllables. Finally, we can use the arithmetic mean of listed values as the reliable estimator of the repertoire size."
   ]
  },
  {
   "cell_type": "code",
   "execution_count": 7,
   "metadata": {},
   "outputs": [],
   "source": [
    "# Counts number of different elements in sample starting from lower_range index up to upper_range,\n",
    "# than moves the frame and examining next sample of the same length starting from lower_range + step.\n",
    "\n",
    "def repertoire_size (syllable_series, lower_range=0, upper_range=1000, step=10):\n",
    "\n",
    "    rep = []\n",
    "    for x in range(upper_range, syllable_series.size, step):\n",
    "        rep.append(np.unique(syllable_series[lower_range:upper_range]).size)\n",
    "        lower_range += step\n",
    "        upper_range += step\n",
    "        \n",
    "    repertoire = np.array(rep)\n",
    "    \n",
    "    return np.mean(repertoire), np.min(repertoire), np.max(repertoire)\n",
    "\n",
    "# We can calculate repertoire for group of birds at once\n",
    "\n",
    "def group_repertoire (birds):  \n",
    "    \n",
    "    result = []\n",
    "    for bird in birds:\n",
    "        result.append(list(repertoire_size(bird)))\n",
    "        \n",
    "    return result"
   ]
  },
  {
   "cell_type": "markdown",
   "metadata": {},
   "source": [
    "## Repertoire estimate for each age class"
   ]
  },
  {
   "cell_type": "code",
   "execution_count": 8,
   "metadata": {},
   "outputs": [],
   "source": [
    "answer_young = np.array(group_repertoire(young_birds))\n",
    "answer_adult = np.array(group_repertoire(adult_birds))"
   ]
  },
  {
   "cell_type": "code",
   "execution_count": 9,
   "metadata": {},
   "outputs": [
    {
     "name": "stdout",
     "output_type": "stream",
     "text": [
      "Repertoire of each young bird (Mean\\Minimum\\Maximum):\n",
      "[[106.18382353  75.         129.        ]\n",
      " [ 70.05882353  62.          76.        ]\n",
      " [107.23423423 101.         116.        ]\n",
      " [101.53846154  96.         106.        ]\n",
      " [ 60.18556701  54.          66.        ]\n",
      " [ 98.23863636  90.         112.        ]\n",
      " [102.63430421  78.         119.        ]\n",
      " [ 98.75609756  92.         107.        ]\n",
      " [ 83.58571429  80.          86.        ]]\n",
      "\n",
      "Repertoire of each adult bird (Mean\\Minimum\\Maximum):\n",
      "[[103.92982456  91.         116.        ]\n",
      " [121.99438202 110.         132.        ]\n",
      " [120.23737374 100.         138.        ]\n",
      " [124.8680203   91.         139.        ]\n",
      " [ 96.73469388  93.         104.        ]\n",
      " [135.51401869 113.         149.        ]\n",
      " [124.6        115.         146.        ]\n",
      " [132.36099585 116.         148.        ]]\n"
     ]
    }
   ],
   "source": [
    "print(f'Repertoire of each young bird (Mean\\Minimum\\Maximum):\\n{answer_young}\\n')\n",
    "print(f'Repertoire of each adult bird (Mean\\Minimum\\Maximum):\\n{answer_adult}')"
   ]
  },
  {
   "cell_type": "markdown",
   "metadata": {},
   "source": [
    "## Conclusion"
   ]
  },
  {
   "cell_type": "markdown",
   "metadata": {},
   "source": [
    "Let's visualise the difference in the repertoire size between age groups"
   ]
  },
  {
   "cell_type": "code",
   "execution_count": 10,
   "metadata": {},
   "outputs": [
    {
     "data": {
      "image/png": "[encoded data removed]",
      "text/plain": [
       "<Figure size 432x288 with 1 Axes>"
      ]
     },
     "metadata": {
      "needs_background": "light"
     },
     "output_type": "display_data"
    }
   ],
   "source": [
    "np.warnings.filterwarnings('ignore', category=np.VisibleDeprecationWarning)\n",
    "\n",
    "labels = ['young', 'adult']\n",
    "\n",
    "fig, ax = plt.subplots()\n",
    "\n",
    "ax.set_title('Repertoire size estimate')\n",
    "ax.boxplot([answer_young[:,0], answer_adult[:,0]])\n",
    "ax.set_xticklabels(labels)\n",
    "\n",
    "plt.xlabel('Age')\n",
    "plt.show()"
   ]
  },
  {
   "cell_type": "markdown",
   "metadata": {},
   "source": [
    "Let's test the above difference with Mann-Whitney U test"
   ]
  },
  {
   "cell_type": "code",
   "execution_count": 11,
   "metadata": {},
   "outputs": [
    {
     "name": "stdout",
     "output_type": "stream",
     "text": [
      "The song repertoire size of adults was significantly larger than that of youngs (W = 8.0, p = 0.004).\n"
     ]
    }
   ],
   "source": [
    "from scipy.stats import mannwhitneyu\n",
    "\n",
    "w, p = mannwhitneyu(answer_young[:,0], answer_adult[:,0])\n",
    "\n",
    "print(f'The song repertoire size of adults was significantly larger than that of youngs (W = {w}, p = {round(p, 3)}).')"
   ]
  },
  {
   "cell_type": "markdown",
   "metadata": {},
   "source": [
    "**Now we know that adult birds have larger repertoire than young ones.**\n",
    "\n",
    "This result may suggest that song repertoire increases with age in the bluethroat, but it's a completely different story..."
   ]
  }
 ],
 "metadata": {
  "kernelspec": {
   "display_name": "Python 3",
   "language": "python",
   "name": "python3"
  },
  "language_info": {
   "codemirror_mode": {
    "name": "ipython",
    "version": 3
   },
   "file_extension": ".py",
   "mimetype": "text/x-python",
   "name": "python",
   "nbconvert_exporter": "python",
   "pygments_lexer": "ipython3",
   "version": "3.8.3"
  },
  "toc": {
   "base_numbering": 1,
   "nav_menu": {},
   "number_sections": true,
   "sideBar": true,
   "skip_h1_title": false,
   "title_cell": "Table of Contents",
   "title_sidebar": "Contents",
   "toc_cell": false,
   "toc_position": {},
   "toc_section_display": true,
   "toc_window_display": false
  }
 },
 "nbformat": 4,
 "nbformat_minor": 4
}
